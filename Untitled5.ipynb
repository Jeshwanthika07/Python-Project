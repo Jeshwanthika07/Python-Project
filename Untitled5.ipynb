{
 "cells": [
  {
   "cell_type": "code",
   "execution_count": 1,
   "id": "c53149c1-75b1-4095-b463-35a0a2f9655c",
   "metadata": {},
   "outputs": [
    {
     "ename": "SyntaxError",
     "evalue": "invalid non-printable character U+00A0 (modulefunctions.py, line 79)",
     "output_type": "error",
     "traceback": [
      "Traceback \u001b[1;36m(most recent call last)\u001b[0m:\n",
      "\u001b[0m  File \u001b[0;32m~\\anaconda3\\Lib\\site-packages\\IPython\\core\\interactiveshell.py:3577\u001b[0m in \u001b[0;35mrun_code\u001b[0m\n    exec(code_obj, self.user_global_ns, self.user_ns)\u001b[0m\n",
      "\u001b[1;36m  Cell \u001b[1;32mIn[1], line 1\u001b[1;36m\n\u001b[1;33m    import modulefunctions\u001b[1;36m\n",
      "\u001b[1;36m  File \u001b[1;32m~\\modulefunctions.py:79\u001b[1;36m\u001b[0m\n\u001b[1;33m    return a\u001b[0m\n\u001b[1;37m          ^\u001b[0m\n\u001b[1;31mSyntaxError\u001b[0m\u001b[1;31m:\u001b[0m invalid non-printable character U+00A0\n"
     ]
    }
   ],
   "source": [
    "import modulefunctions"
   ]
  },
  {
   "cell_type": "code",
   "execution_count": 7,
   "id": "7bc96758-7936-490b-a072-40ac7c9bce7e",
   "metadata": {},
   "outputs": [
    {
     "ename": "NameError",
     "evalue": "name 'modulefunctions' is not defined",
     "output_type": "error",
     "traceback": [
      "\u001b[1;31m---------------------------------------------------------------------------\u001b[0m",
      "\u001b[1;31mNameError\u001b[0m                                 Traceback (most recent call last)",
      "Cell \u001b[1;32mIn[7], line 1\u001b[0m\n\u001b[1;32m----> 1\u001b[0m modulefunctions\u001b[38;5;241m.\u001b[39mgreet(\u001b[38;5;124m\"\u001b[39m\u001b[38;5;124mjesh\u001b[39m\u001b[38;5;124m\"\u001b[39m)\n",
      "\u001b[1;31mNameError\u001b[0m: name 'modulefunctions' is not defined"
     ]
    }
   ],
   "source": [
    "modulefunctions.greet(\"jesh\")"
   ]
  },
  {
   "cell_type": "code",
   "execution_count": null,
   "id": "eea3dab0-6586-407d-b064-b485872afa5a",
   "metadata": {},
   "outputs": [],
   "source": [
    "modulefunctions.abc(4,5)"
   ]
  },
  {
   "cell_type": "code",
   "execution_count": 5,
   "id": "7b231c46-14af-4d99-b025-1de4d83bc727",
   "metadata": {},
   "outputs": [
    {
     "data": {
      "text/plain": [
       "2"
      ]
     },
     "execution_count": 5,
     "metadata": {},
     "output_type": "execute_result"
    }
   ],
   "source": [
    "modulefunctions.xyz(2,3)"
   ]
  },
  {
   "cell_type": "code",
   "execution_count": 6,
   "id": "ff3a332f-03a0-443f-a33f-8c7ff6886ebd",
   "metadata": {},
   "outputs": [
    {
     "data": {
      "text/plain": [
       "120"
      ]
     },
     "execution_count": 6,
     "metadata": {},
     "output_type": "execute_result"
    }
   ],
   "source": [
    "modulefunctions.factorial(5)"
   ]
  },
  {
   "cell_type": "code",
   "execution_count": 7,
   "id": "ce0c38d4-5335-4d31-911d-40d798257bf7",
   "metadata": {},
   "outputs": [
    {
     "name": "stdout",
     "output_type": "stream",
     "text": [
      "not a prime number\n"
     ]
    }
   ],
   "source": [
    "modulefunctions.num(6)"
   ]
  },
  {
   "cell_type": "code",
   "execution_count": 8,
   "id": "fd0f4ed8-4775-48bf-9e2e-2e6c2fc3e8f7",
   "metadata": {},
   "outputs": [
    {
     "name": "stdout",
     "output_type": "stream",
     "text": [
      "9 postive and odd\n"
     ]
    }
   ],
   "source": [
    "modulefunctions.number(9)"
   ]
  },
  {
   "cell_type": "code",
   "execution_count": 9,
   "id": "a8cbb32d-afe8-4cb3-ba0d-10b7a2b686b2",
   "metadata": {},
   "outputs": [
    {
     "name": "stdout",
     "output_type": "stream",
     "text": [
      "0 1 1 "
     ]
    }
   ],
   "source": [
    "modulefunctions.fib(3)"
   ]
  },
  {
   "cell_type": "code",
   "execution_count": 12,
   "id": "96286de1-4571-4871-87db-e7e8ea2bd6d5",
   "metadata": {},
   "outputs": [
    {
     "name": "stdout",
     "output_type": "stream",
     "text": [
      "palindrome\n"
     ]
    }
   ],
   "source": [
    "modulefunctions.word(\"amma\")"
   ]
  }
 ],
 "metadata": {
  "kernelspec": {
   "display_name": "Python 3 (ipykernel)",
   "language": "python",
   "name": "python3"
  },
  "language_info": {
   "codemirror_mode": {
    "name": "ipython",
    "version": 3
   },
   "file_extension": ".py",
   "mimetype": "text/x-python",
   "name": "python",
   "nbconvert_exporter": "python",
   "pygments_lexer": "ipython3",
   "version": "3.12.4"
  }
 },
 "nbformat": 4,
 "nbformat_minor": 5
}
